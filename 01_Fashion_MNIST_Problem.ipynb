{
  "cells": [
    {
      "cell_type": "markdown",
      "metadata": {
        "id": "vH2PuuJsajg3"
      },
      "source": [
        "<img src=\"The-Northcap-University-NCU-logo.png\">"
      ]
    },
    {
      "cell_type": "markdown",
      "metadata": {
        "id": "C2HlMEukajg6"
      },
      "source": [
        "# Deep Learning for Image Classification Drill\n",
        "\n",
        "\n",
        "Welcome to your drill! Follow the instructions in bold below to complete the drill.\n",
        "\n",
        "------------\n",
        "\n",
        "## The Challenge\n",
        "\n",
        "**Your task is to build an image classifier with Keras and Convolutional Neural Networks for the Fashion MNIST dataset. This data set includes 10 labels of different clothing types with 28 by 28 *grayscale* images. There is a training set of 60,000 images and 10,000 test images.**\n",
        "\n",
        "    Label\tDescription\n",
        "    0\t    T-shirt/top\n",
        "    1\t    Trouser\n",
        "    2\t    Pullover\n",
        "    3\t    Dress\n",
        "    4\t    Coat\n",
        "    5\t    Sandal\n",
        "    6\t    Shirt\n",
        "    7\t    Sneaker\n",
        "    8\t    Bag\n",
        "    9\t    Ankle boot\n",
        "    \n",
        ""
      ]
    },
    {
      "cell_type": "markdown",
      "metadata": {
        "id": "fcLgMcRbajg8"
      },
      "source": [
        "## The Data\n",
        "\n",
        "**TASK 1: Run the code below to download the dataset using Keras.**"
      ]
    },
    {
      "cell_type": "code",
      "execution_count": 3,
      "metadata": {
        "colab": {
          "base_uri": "https://localhost:8080/"
        },
        "id": "GhPMElcnajg9",
        "outputId": "61eda983-207c-489e-e9ff-78934df1b9d0"
      },
      "outputs": [
        {
          "output_type": "stream",
          "name": "stdout",
          "text": [
            "Downloading data from https://storage.googleapis.com/tensorflow/tf-keras-datasets/train-labels-idx1-ubyte.gz\n",
            "29515/29515 [==============================] - 0s 0us/step\n",
            "Downloading data from https://storage.googleapis.com/tensorflow/tf-keras-datasets/train-images-idx3-ubyte.gz\n",
            "26421880/26421880 [==============================] - 1s 0us/step\n",
            "Downloading data from https://storage.googleapis.com/tensorflow/tf-keras-datasets/t10k-labels-idx1-ubyte.gz\n",
            "5148/5148 [==============================] - 0s 0us/step\n",
            "Downloading data from https://storage.googleapis.com/tensorflow/tf-keras-datasets/t10k-images-idx3-ubyte.gz\n",
            "4422102/4422102 [==============================] - 1s 0us/step\n"
          ]
        }
      ],
      "source": [
        "from tensorflow.keras.datasets import fashion_mnist\n",
        "\n",
        "(x_train, y_train), (x_test, y_test) = fashion_mnist.load_data()"
      ]
    },
    {
      "cell_type": "markdown",
      "metadata": {
        "id": "avrdQEzWajhA"
      },
      "source": [
        "## Visualizing the Data\n",
        "\n",
        "**TASK 2: Use matplotlib to view an image from the data set. It can be any image from the data set.**"
      ]
    },
    {
      "cell_type": "code",
      "execution_count": 6,
      "metadata": {
        "colab": {
          "base_uri": "https://localhost:8080/",
          "height": 428
        },
        "id": "Uif7AKAKajhA",
        "outputId": "0534ba51-aaa5-49c1-8a1a-419c06bc47f2"
      },
      "outputs": [
        {
          "output_type": "display_data",
          "data": {
            "text/plain": [
              "<Figure size 640x480 with 1 Axes>"
            ],
            "image/png": "[encoded data removed]"
          },
          "metadata": {}
        }
      ],
      "source": [
        "import tensorflow as tf\n",
        "import matplotlib.pyplot as plt\n",
        "\n",
        "# Load the Fashion MNIST dataset from TensorFlow\n",
        "fashion_mnist = tf.keras.datasets.fashion_mnist\n",
        "(train_images, train_labels), (test_images, test_labels) = fashion_mnist.load_data()\n",
        "\n",
        "# Choose an image index to display\n",
        "image_index = 0  # You can change this index to view different images\n",
        "\n",
        "# Display the selected image\n",
        "plt.imshow(train_images[image_index], cmap='gray')  # cmap='gray' for grayscale\n",
        "plt.title(f'Fashion MNIST Image: Label {train_labels[image_index]}')\n",
        "plt.axis('off')\n",
        "plt.show()\n"
      ]
    },
    {
      "cell_type": "code",
      "execution_count": null,
      "metadata": {
        "id": "8jZzgEn0ajhB"
      },
      "outputs": [],
      "source": []
    },
    {
      "cell_type": "code",
      "execution_count": 7,
      "metadata": {
        "colab": {
          "base_uri": "https://localhost:8080/",
          "height": 463
        },
        "id": "LElRlj5JajhB",
        "outputId": "64873171-1cbc-4ccf-c120-14a4fc3287ce"
      },
      "outputs": [
        {
          "output_type": "stream",
          "name": "stdout",
          "text": [
            "Downloading data from https://www.cs.toronto.edu/~kriz/cifar-10-python.tar.gz\n",
            "170498071/170498071 [==============================] - 7s 0us/step\n"
          ]
        },
        {
          "output_type": "display_data",
          "data": {
            "text/plain": [
              "<Figure size 640x480 with 1 Axes>"
            ],
            "image/png": "[encoded data removed]"
          },
          "metadata": {}
        }
      ],
      "source": [
        "import tensorflow as tf\n",
        "import matplotlib.pyplot as plt\n",
        "\n",
        "# Load the CIFAR-10 dataset from TensorFlow\n",
        "cifar10 = tf.keras.datasets.cifar10\n",
        "(train_images, train_labels), (test_images, test_labels) = cifar10.load_data()\n",
        "\n",
        "# Choose an image index to display\n",
        "image_index = 0  # You can change this index to view different images\n",
        "\n",
        "# Display the selected image\n",
        "plt.imshow(train_images[image_index])\n",
        "plt.title(f'CIFAR-10 Image: Label {train_labels[image_index][0]}')\n",
        "plt.axis('off')\n",
        "plt.show()\n"
      ]
    },
    {
      "cell_type": "code",
      "execution_count": null,
      "metadata": {
        "id": "IqbYnXE1ajhB"
      },
      "outputs": [],
      "source": []
    },
    {
      "cell_type": "markdown",
      "metadata": {
        "id": "s_TigIneajhB"
      },
      "source": [
        "## Preprocessing the Data\n",
        "\n",
        "**TASK 3: Normalize the X train and X test data by dividing by the max value of the image arrays.**"
      ]
    },
    {
      "cell_type": "code",
      "execution_count": null,
      "metadata": {
        "id": "qKahAeVaajhC",
        "outputId": "3a10573d-722e-4c52-f933-9511d88a5cb6"
      },
      "outputs": [
        {
          "data": {
            "text/plain": [
              "255"
            ]
          },
          "execution_count": 6,
          "metadata": {},
          "output_type": "execute_result"
        }
      ],
      "source": []
    },
    {
      "cell_type": "code",
      "execution_count": 8,
      "metadata": {
        "colab": {
          "base_uri": "https://localhost:8080/"
        },
        "id": "u-SmtvenajhC",
        "outputId": "2417fcd1-ee1b-4636-a64e-56d7775170d8"
      },
      "outputs": [
        {
          "output_type": "stream",
          "name": "stdout",
          "text": [
            "Shape of normalized training images: (50000, 32, 32, 3)\n",
            "Shape of normalized testing images: (10000, 32, 32, 3)\n"
          ]
        }
      ],
      "source": [
        "import tensorflow as tf\n",
        "\n",
        "# Load the CIFAR-10 dataset from TensorFlow\n",
        "cifar10 = tf.keras.datasets.cifar10\n",
        "(train_images, train_labels), (test_images, test_labels) = cifar10.load_data()\n",
        "\n",
        "# Normalize the pixel values by dividing by the maximum value\n",
        "train_images_normalized = train_images / 255.0\n",
        "test_images_normalized = test_images / 255.0\n",
        "\n",
        "# Displaying the shape of the normalized datasets to confirm the change\n",
        "print(\"Shape of normalized training images:\", train_images_normalized.shape)\n",
        "print(\"Shape of normalized testing images:\", test_images_normalized.shape)\n"
      ]
    },
    {
      "cell_type": "code",
      "execution_count": null,
      "metadata": {
        "id": "eQ4OQWu1ajhD"
      },
      "outputs": [],
      "source": []
    },
    {
      "cell_type": "markdown",
      "metadata": {
        "id": "yYgRF3-NajhD"
      },
      "source": [
        "**Task 4: Reshape the X arrays to include a 4 dimension of the single channel. Similar to what we did for the numbers MNIST data set.**"
      ]
    },
    {
      "cell_type": "code",
      "execution_count": 9,
      "metadata": {
        "colab": {
          "base_uri": "https://localhost:8080/"
        },
        "id": "qBr1nivVajhE",
        "outputId": "b79c5ec2-a857-4a24-e0d2-59d90703f008"
      },
      "outputs": [
        {
          "output_type": "stream",
          "name": "stdout",
          "text": [
            "Shape of reshaped training images: (50000, 32, 32, 3)\n",
            "Shape of reshaped testing images: (10000, 32, 32, 3)\n"
          ]
        }
      ],
      "source": [
        "import tensorflow as tf\n",
        "\n",
        "# Load the CIFAR-10 dataset from TensorFlow\n",
        "cifar10 = tf.keras.datasets.cifar10\n",
        "(train_images, train_labels), (test_images, test_labels) = cifar10.load_data()\n",
        "\n",
        "# Normalize the pixel values by dividing by the maximum value\n",
        "train_images_normalized = train_images / 255.0\n",
        "test_images_normalized = test_images / 255.0\n",
        "\n",
        "# Reshape the arrays to include a 4th dimension representing a single channel\n",
        "train_images_reshaped = train_images_normalized.reshape(train_images_normalized.shape[0], train_images_normalized.shape[1], train_images_normalized.shape[2], 3)\n",
        "test_images_reshaped = test_images_normalized.reshape(test_images_normalized.shape[0], test_images_normalized.shape[1], test_images_normalized.shape[2], 3)\n",
        "\n",
        "# Displaying the shape of the reshaped datasets to confirm the change\n",
        "print(\"Shape of reshaped training images:\", train_images_reshaped.shape)\n",
        "print(\"Shape of reshaped testing images:\", test_images_reshaped.shape)\n"
      ]
    },
    {
      "cell_type": "code",
      "execution_count": null,
      "metadata": {
        "id": "u97WPzeMajhE"
      },
      "outputs": [],
      "source": []
    },
    {
      "cell_type": "code",
      "execution_count": null,
      "metadata": {
        "id": "-u4GowaEajhE"
      },
      "outputs": [],
      "source": []
    },
    {
      "cell_type": "markdown",
      "metadata": {
        "id": "du0qfspDajhE"
      },
      "source": [
        "**TASK 5: Convert the y_train and y_test values to be one-hot encoded for categorical analysis by Keras.**"
      ]
    },
    {
      "cell_type": "code",
      "execution_count": 10,
      "metadata": {
        "colab": {
          "base_uri": "https://localhost:8080/"
        },
        "id": "BrHHlAd6ajhF",
        "outputId": "6ffebb50-3e6d-4077-d96e-d762780712f5"
      },
      "outputs": [
        {
          "output_type": "stream",
          "name": "stdout",
          "text": [
            "Shape of one-hot encoded training labels: (50000, 10)\n",
            "Shape of one-hot encoded testing labels: (10000, 10)\n"
          ]
        }
      ],
      "source": [
        "import tensorflow as tf\n",
        "from tensorflow.keras.utils import to_categorical\n",
        "\n",
        "# Load the CIFAR-10 dataset from TensorFlow\n",
        "cifar10 = tf.keras.datasets.cifar10\n",
        "(train_images, train_labels), (test_images, test_labels) = cifar10.load_data()\n",
        "\n",
        "# Normalize the pixel values by dividing by the maximum value\n",
        "train_images_normalized = train_images / 255.0\n",
        "test_images_normalized = test_images / 255.0\n",
        "\n",
        "# Reshape the arrays to include a 4th dimension representing a single channel\n",
        "train_images_reshaped = train_images_normalized.reshape(train_images_normalized.shape[0], train_images_normalized.shape[1], train_images_normalized.shape[2], 3)\n",
        "test_images_reshaped = test_images_normalized.reshape(test_images_normalized.shape[0], test_images_normalized.shape[1], test_images_normalized.shape[2], 3)\n",
        "\n",
        "# Convert the integer labels to one-hot encoded vectors\n",
        "num_classes = 10  # CIFAR-10 has 10 classes\n",
        "train_labels_one_hot = to_categorical(train_labels, num_classes)\n",
        "test_labels_one_hot = to_categorical(test_labels, num_classes)\n",
        "\n",
        "# Displaying the shape of the one-hot encoded label arrays to confirm the change\n",
        "print(\"Shape of one-hot encoded training labels:\", train_labels_one_hot.shape)\n",
        "print(\"Shape of one-hot encoded testing labels:\", test_labels_one_hot.shape)\n"
      ]
    },
    {
      "cell_type": "code",
      "execution_count": null,
      "metadata": {
        "id": "um7EjrbxajhF"
      },
      "outputs": [],
      "source": []
    },
    {
      "cell_type": "code",
      "execution_count": null,
      "metadata": {
        "id": "3wt940sOajhF"
      },
      "outputs": [],
      "source": []
    },
    {
      "cell_type": "code",
      "execution_count": null,
      "metadata": {
        "id": "fHbX1yuqajhF"
      },
      "outputs": [],
      "source": []
    },
    {
      "cell_type": "markdown",
      "metadata": {
        "id": "0FodGGVvajhG"
      },
      "source": [
        "## Building the Model\n",
        "\n",
        "**TASK 5: Use Keras to create a model consisting of at least the following layers (but feel free to experiment):**\n",
        "\n",
        "* 2D Convolutional Layer, filters=32 and kernel_size=(4,4)\n",
        "* Pooling Layer where pool_size = (2,2)\n",
        "\n",
        "* Flatten Layer\n",
        "* Dense Layer (128 Neurons, but feel free to play around with this value), RELU activation\n",
        "\n",
        "* Final Dense Layer of 10 Neurons with a softmax activation\n",
        "\n",
        "**Then compile the model with these parameters: loss='categorical_crossentropy', optimizer='rmsprop', metrics=['accuracy']**"
      ]
    },
    {
      "cell_type": "code",
      "execution_count": 11,
      "metadata": {
        "colab": {
          "base_uri": "https://localhost:8080/"
        },
        "id": "eej3DBe4ajhG",
        "outputId": "27f5cb60-9678-4bc9-d19e-518bdca9b71d"
      },
      "outputs": [
        {
          "output_type": "stream",
          "name": "stdout",
          "text": [
            "Model: \"sequential\"\n",
            "_________________________________________________________________\n",
            " Layer (type)                Output Shape              Param #   \n",
            "=================================================================\n",
            " conv2d (Conv2D)             (None, 29, 29, 32)        1568      \n",
            "                                                                 \n",
            " max_pooling2d (MaxPooling2  (None, 14, 14, 32)        0         \n",
            " D)                                                              \n",
            "                                                                 \n",
            " flatten (Flatten)           (None, 6272)              0         \n",
            "                                                                 \n",
            " dense (Dense)               (None, 128)               802944    \n",
            "                                                                 \n",
            " dense_1 (Dense)             (None, 10)                1290      \n",
            "                                                                 \n",
            "=================================================================\n",
            "Total params: 805802 (3.07 MB)\n",
            "Trainable params: 805802 (3.07 MB)\n",
            "Non-trainable params: 0 (0.00 Byte)\n",
            "_________________________________________________________________\n"
          ]
        }
      ],
      "source": [
        "import tensorflow as tf\n",
        "from tensorflow.keras.models import Sequential\n",
        "from tensorflow.keras.layers import Conv2D, MaxPooling2D, Flatten, Dense\n",
        "\n",
        "# Create the model\n",
        "model = Sequential()\n",
        "\n",
        "# Add a 2D Convolutional Layer\n",
        "model.add(Conv2D(32, kernel_size=(4, 4), activation='relu', input_shape=(32, 32, 3)))\n",
        "\n",
        "# Add a Pooling Layer\n",
        "model.add(MaxPooling2D(pool_size=(2, 2)))\n",
        "\n",
        "# Flatten the output from the convolutional layers\n",
        "model.add(Flatten())\n",
        "\n",
        "# Add a Dense Layer\n",
        "model.add(Dense(128, activation='relu'))\n",
        "\n",
        "# Add the final Dense Layer with softmax activation\n",
        "model.add(Dense(10, activation='softmax'))\n",
        "\n",
        "# Compile the model\n",
        "model.compile(loss='categorical_crossentropy', optimizer='rmsprop', metrics=['accuracy'])\n",
        "\n",
        "# Display the model summary\n",
        "model.summary()\n"
      ]
    },
    {
      "cell_type": "code",
      "execution_count": null,
      "metadata": {
        "id": "up2HBnF-ajhG"
      },
      "outputs": [],
      "source": []
    },
    {
      "cell_type": "markdown",
      "metadata": {
        "id": "d7dZrhopajhH"
      },
      "source": [
        "### Training the Model\n",
        "**TASK 6: Train/Fit the model to the x_train set. Amount of epochs is up to you.**"
      ]
    },
    {
      "cell_type": "code",
      "execution_count": 13,
      "metadata": {
        "colab": {
          "base_uri": "https://localhost:8080/",
          "height": 1000
        },
        "id": "SGBFMJ8wajhI",
        "outputId": "5d54202c-552c-4c58-de70-5d1891b4fddd"
      },
      "outputs": [
        {
          "output_type": "stream",
          "name": "stdout",
          "text": [
            "Epoch 1/10\n",
            "1250/1250 [==============================] - 39s 31ms/step - loss: 1.5457 - accuracy: 0.4465 - val_loss: 1.3829 - val_accuracy: 0.5116\n",
            "Epoch 2/10\n",
            "1250/1250 [==============================] - 43s 34ms/step - loss: 1.2242 - accuracy: 0.5742 - val_loss: 1.2380 - val_accuracy: 0.5735\n",
            "Epoch 3/10\n",
            "1250/1250 [==============================] - 38s 31ms/step - loss: 1.0881 - accuracy: 0.6215 - val_loss: 1.1639 - val_accuracy: 0.6028\n",
            "Epoch 4/10\n",
            "1250/1250 [==============================] - 37s 30ms/step - loss: 0.9816 - accuracy: 0.6611 - val_loss: 1.0780 - val_accuracy: 0.6347\n",
            "Epoch 5/10\n",
            "1250/1250 [==============================] - 36s 29ms/step - loss: 0.8858 - accuracy: 0.6951 - val_loss: 1.1304 - val_accuracy: 0.6262\n",
            "Epoch 6/10\n",
            "1250/1250 [==============================] - 38s 30ms/step - loss: 0.7978 - accuracy: 0.7245 - val_loss: 1.1543 - val_accuracy: 0.6323\n",
            "Epoch 7/10\n",
            "1250/1250 [==============================] - 38s 30ms/step - loss: 0.7137 - accuracy: 0.7557 - val_loss: 1.1354 - val_accuracy: 0.6371\n",
            "Epoch 8/10\n",
            "1250/1250 [==============================] - 37s 30ms/step - loss: 0.6340 - accuracy: 0.7826 - val_loss: 1.2177 - val_accuracy: 0.6417\n",
            "Epoch 9/10\n",
            "1250/1250 [==============================] - 38s 30ms/step - loss: 0.5619 - accuracy: 0.8066 - val_loss: 1.2368 - val_accuracy: 0.6459\n",
            "Epoch 10/10\n",
            "1250/1250 [==============================] - 38s 30ms/step - loss: 0.4821 - accuracy: 0.8365 - val_loss: 1.3047 - val_accuracy: 0.6452\n"
          ]
        },
        {
          "output_type": "display_data",
          "data": {
            "text/plain": [
              "<Figure size 640x480 with 1 Axes>"
            ],
            "image/png": "[encoded data removed]"
          },
          "metadata": {}
        },
        {
          "output_type": "display_data",
          "data": {
            "text/plain": [
              "<Figure size 640x480 with 1 Axes>"
            ],
            "image/png": "[encoded data removed]"
          },
          "metadata": {}
        }
      ],
      "source": [
        "# Train the model\n",
        "history = model.fit(train_images_reshaped, train_labels_one_hot, epochs=10, batch_size=32, validation_split=0.2)\n",
        "\n",
        "# Plot training & validation accuracy values\n",
        "import matplotlib.pyplot as plt\n",
        "\n",
        "plt.plot(history.history['accuracy'])\n",
        "plt.plot(history.history['val_accuracy'])\n",
        "plt.title('Model accuracy')\n",
        "plt.xlabel('Epoch')\n",
        "plt.ylabel('Accuracy')\n",
        "plt.legend(['Train', 'Validation'], loc='upper left')\n",
        "plt.show()\n",
        "\n",
        "# Plot training & validation loss values\n",
        "plt.plot(history.history['loss'])\n",
        "plt.plot(history.history['val_loss'])\n",
        "plt.title('Model loss')\n",
        "plt.xlabel('Epoch')\n",
        "plt.ylabel('Loss')\n",
        "plt.legend(['Train', 'Validation'], loc='upper left')\n",
        "plt.show()\n",
        "\n"
      ]
    },
    {
      "cell_type": "markdown",
      "metadata": {
        "id": "7zNWeYuBajhI"
      },
      "source": [
        "### Evaluating the Model\n",
        "\n",
        "**TASK 7: Show the accuracy,precision,recall,f1-score the model achieved on the x_test data set. Keep in mind, there are quite a few ways to do this, but we recommend following the same procedure we showed in the MNIST lecture.**"
      ]
    },
    {
      "cell_type": "code",
      "execution_count": 14,
      "metadata": {
        "colab": {
          "base_uri": "https://localhost:8080/"
        },
        "id": "BsufhN70ajhI",
        "outputId": "4e9249ba-ae89-454b-ee80-a5e1ab3fc800"
      },
      "outputs": [
        {
          "output_type": "stream",
          "name": "stdout",
          "text": [
            "313/313 [==============================] - 6s 17ms/step\n",
            "              precision    recall  f1-score   support\n",
            "\n",
            "           0       0.70      0.68      0.69      1000\n",
            "           1       0.77      0.70      0.73      1000\n",
            "           2       0.55      0.48      0.51      1000\n",
            "           3       0.46      0.45      0.45      1000\n",
            "           4       0.52      0.68      0.59      1000\n",
            "           5       0.56      0.47      0.52      1000\n",
            "           6       0.75      0.68      0.71      1000\n",
            "           7       0.71      0.68      0.70      1000\n",
            "           8       0.76      0.78      0.77      1000\n",
            "           9       0.64      0.80      0.71      1000\n",
            "\n",
            "    accuracy                           0.64     10000\n",
            "   macro avg       0.64      0.64      0.64     10000\n",
            "weighted avg       0.64      0.64      0.64     10000\n",
            "\n"
          ]
        }
      ],
      "source": [
        "import numpy as np\n",
        "from sklearn.metrics import classification_report\n",
        "\n",
        "# Use the trained model to make predictions on the test set\n",
        "predictions = model.predict(test_images_reshaped)\n",
        "\n",
        "# Convert the predicted labels and true labels to categorical format\n",
        "predicted_labels = np.argmax(predictions, axis=1)\n",
        "true_labels = np.argmax(test_labels_one_hot, axis=1)\n",
        "\n",
        "# Calculate accuracy, precision, recall, and F1-score\n",
        "report = classification_report(true_labels, predicted_labels)\n",
        "print(report)\n"
      ]
    },
    {
      "cell_type": "code",
      "execution_count": null,
      "metadata": {
        "id": "SXJzOtNzajhJ"
      },
      "outputs": [],
      "source": []
    },
    {
      "cell_type": "code",
      "execution_count": null,
      "metadata": {
        "id": "iYT-ditiajhJ"
      },
      "outputs": [],
      "source": []
    },
    {
      "cell_type": "code",
      "execution_count": null,
      "metadata": {
        "id": "Ut47YXF8ajhJ"
      },
      "outputs": [],
      "source": []
    },
    {
      "cell_type": "code",
      "execution_count": null,
      "metadata": {
        "id": "GzmFDdo-ajhK"
      },
      "outputs": [],
      "source": []
    },
    {
      "cell_type": "code",
      "execution_count": null,
      "metadata": {
        "id": "JiaaMUvwajhK"
      },
      "outputs": [],
      "source": []
    },
    {
      "cell_type": "code",
      "execution_count": null,
      "metadata": {
        "id": "hdgAPSrvajhK"
      },
      "outputs": [],
      "source": []
    },
    {
      "cell_type": "code",
      "execution_count": null,
      "metadata": {
        "id": "C6tGkx_majhL"
      },
      "outputs": [],
      "source": []
    },
    {
      "cell_type": "code",
      "execution_count": null,
      "metadata": {
        "scrolled": true,
        "id": "ogdrCHJwajhL",
        "outputId": "236d3081-95a9-4b3f-ae23-a8f243a27567"
      },
      "outputs": [
        {
          "name": "stdout",
          "output_type": "stream",
          "text": [
            "             precision    recall  f1-score   support\n",
            "\n",
            "          0       0.86      0.85      0.85      1000\n",
            "          1       0.99      0.97      0.98      1000\n",
            "          2       0.88      0.83      0.85      1000\n",
            "          3       0.91      0.91      0.91      1000\n",
            "          4       0.83      0.88      0.85      1000\n",
            "          5       0.97      0.98      0.98      1000\n",
            "          6       0.73      0.76      0.74      1000\n",
            "          7       0.95      0.97      0.96      1000\n",
            "          8       0.99      0.97      0.98      1000\n",
            "          9       0.98      0.94      0.96      1000\n",
            "\n",
            "avg / total       0.91      0.91      0.91     10000\n",
            "\n"
          ]
        }
      ],
      "source": []
    },
    {
      "cell_type": "markdown",
      "metadata": {
        "id": "xIOPUpn7ajhM"
      },
      "source": [
        "# Great Job!"
      ]
    }
  ],
  "metadata": {
    "kernelspec": {
      "display_name": "Python 3",
      "language": "python",
      "name": "python3"
    },
    "language_info": {
      "codemirror_mode": {
        "name": "ipython",
        "version": 3
      },
      "file_extension": ".py",
      "mimetype": "text/x-python",
      "name": "python",
      "nbconvert_exporter": "python",
      "pygments_lexer": "ipython3",
      "version": "3.6.5"
    },
    "colab": {
      "provenance": []
    }
  },
  "nbformat": 4,
  "nbformat_minor": 0
}